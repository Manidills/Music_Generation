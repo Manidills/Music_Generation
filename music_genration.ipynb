{
  "nbformat": 4,
  "nbformat_minor": 0,
  "metadata": {
    "colab": {
      "name": "music genration",
      "provenance": []
    },
    "kernelspec": {
      "name": "python3",
      "display_name": "Python 3"
    },
    "accelerator": "GPU"
  },
  "cells": [
    {
      "cell_type": "code",
      "metadata": {
        "id": "d8DNvw7vKIpH",
        "colab_type": "code",
        "colab": {
          "base_uri": "https://localhost:8080/",
          "height": 527
        },
        "outputId": "67ae4239-a722-437f-8761-a1063e14014c"
      },
      "source": [
        "!unzip /content/schubert.zip"
      ],
      "execution_count": 1,
      "outputs": [
        {
          "output_type": "stream",
          "text": [
            "Archive:  /content/schubert.zip\n",
            "  inflating: schubert_D850_1.mid     \n",
            "  inflating: schubert_D850_2.mid     \n",
            "  inflating: schubert_D850_3.mid     \n",
            "  inflating: schubert_D850_4.mid     \n",
            "  inflating: schubert_D935_1.mid     \n",
            "  inflating: schubert_D935_2.mid     \n",
            "  inflating: schubert_D935_3.mid     \n",
            "  inflating: schubert_D935_4.mid     \n",
            "  inflating: schub_d760_1.mid        \n",
            "  inflating: schub_d760_2.mid        \n",
            "  inflating: schub_d760_3.mid        \n",
            "  inflating: schub_d760_4.mid        \n",
            "  inflating: schub_d960_1.mid        \n",
            "  inflating: schub_d960_2.mid        \n",
            "  inflating: schub_d960_3.mid        \n",
            "  inflating: schub_d960_4.mid        \n",
            "  inflating: schuim-1.mid            \n",
            "  inflating: schuim-2.mid            \n",
            "  inflating: schuim-3.mid            \n",
            "  inflating: schuim-4.mid            \n",
            "  inflating: schumm-1.mid            \n",
            "  inflating: schumm-2.mid            \n",
            "  inflating: schumm-3.mid            \n",
            "  inflating: schumm-4.mid            \n",
            "  inflating: schumm-5.mid            \n",
            "  inflating: schumm-6.mid            \n",
            "  inflating: schu_143_1.mid          \n",
            "  inflating: schu_143_2.mid          \n",
            "  inflating: schu_143_3.mid          \n"
          ],
          "name": "stdout"
        }
      ]
    },
    {
      "cell_type": "code",
      "metadata": {
        "id": "bYQYHsZ1L9T3",
        "colab_type": "code",
        "colab": {
          "base_uri": "https://localhost:8080/",
          "height": 80
        },
        "outputId": "6ae4b86c-2c8e-45c9-f7b1-752cc91f902d"
      },
      "source": [
        "from numpy.random import seed\n",
        "seed(1)\n",
        "from tensorflow import set_random_seed\n",
        "set_random_seed(2)"
      ],
      "execution_count": 2,
      "outputs": [
        {
          "output_type": "display_data",
          "data": {
            "text/html": [
              "<p style=\"color: red;\">\n",
              "The default version of TensorFlow in Colab will soon switch to TensorFlow 2.x.<br>\n",
              "We recommend you <a href=\"https://www.tensorflow.org/guide/migrate\" target=\"_blank\">upgrade</a> now \n",
              "or ensure your notebook will continue to use TensorFlow 1.x via the <code>%tensorflow_version 1.x</code> magic:\n",
              "<a href=\"https://colab.research.google.com/notebooks/tensorflow_version.ipynb\" target=\"_blank\">more info</a>.</p>\n"
            ],
            "text/plain": [
              "<IPython.core.display.HTML object>"
            ]
          },
          "metadata": {
            "tags": []
          }
        }
      ]
    },
    {
      "cell_type": "code",
      "metadata": {
        "id": "sUYTS8v5MDF_",
        "colab_type": "code",
        "colab": {
          "base_uri": "https://localhost:8080/",
          "height": 34
        },
        "outputId": "ec2ca348-767a-4a2d-9233-3defa2845cf8"
      },
      "source": [
        "!pip install music21"
      ],
      "execution_count": 3,
      "outputs": [
        {
          "output_type": "stream",
          "text": [
            "Requirement already satisfied: music21 in /usr/local/lib/python3.6/dist-packages (5.5.0)\n"
          ],
          "name": "stdout"
        }
      ]
    },
    {
      "cell_type": "code",
      "metadata": {
        "id": "9Z9GRM_oMJzL",
        "colab_type": "code",
        "colab": {
          "base_uri": "https://localhost:8080/",
          "height": 34
        },
        "outputId": "dd7c4ced-d06d-42aa-c119-7688ef38d66a"
      },
      "source": [
        "from music21 import * \n",
        "\n",
        "#array processing\n",
        "import numpy as np     \n",
        "import os\n",
        "\n",
        "#random number generator\n",
        "import random         \n",
        "\n",
        "#keras for building deep learning model\n",
        "from keras.layers import * \n",
        "from keras.models import *\n",
        "import keras.backend as K"
      ],
      "execution_count": 4,
      "outputs": [
        {
          "output_type": "stream",
          "text": [
            "Using TensorFlow backend.\n"
          ],
          "name": "stderr"
        }
      ]
    },
    {
      "cell_type": "code",
      "metadata": {
        "id": "XVmEx2FlMOCf",
        "colab_type": "code",
        "colab": {}
      },
      "source": [
        "def read_midi(file):\n",
        "  notes=[]\n",
        "  notes_to_parse = None\n",
        "\n",
        "  #parsing a midi file\n",
        "  midi = converter.parse(file)\n",
        "  #grouping based on different instruments\n",
        "  s2 = instrument.partitionByInstrument(midi)\n",
        "\n",
        "  #Looping over all the instruments\n",
        "  for part in s2.parts:\n",
        "    #select elements of only piano\n",
        "    if 'Piano' in str(part): \n",
        "      notes_to_parse = part.recurse() \n",
        "      #finding whether a particular element is note or a chord\n",
        "      for element in notes_to_parse:\n",
        "        if isinstance(element, note.Note):\n",
        "          notes.append(str(element.pitch))\n",
        "        elif isinstance(element, chord.Chord):\n",
        "          notes.append('.'.join(str(n) for n in element.normalOrder))\n",
        "      \n",
        "  return notes"
      ],
      "execution_count": 0,
      "outputs": []
    },
    {
      "cell_type": "code",
      "metadata": {
        "id": "_4Dkz1bAMc-i",
        "colab_type": "code",
        "colab": {}
      },
      "source": [
        "files=[i for i in os.listdir() if i.endswith(\".mid\")]\n",
        "\n",
        "#reading each midi file\n",
        "all_notes=[]\n",
        "for i in files:\n",
        "  all_notes.append(read_midi(i))\n",
        "\n",
        "#notes and chords of all the midi files\n",
        "notes = [element for notes in all_notes for element in notes]"
      ],
      "execution_count": 0,
      "outputs": []
    },
    {
      "cell_type": "code",
      "metadata": {
        "id": "e6hlMfwZMhJ3",
        "colab_type": "code",
        "colab": {}
      },
      "source": [
        "no_of_timesteps = 128      \n",
        "\n",
        "#no. of unique notes\n",
        "n_vocab = len(set(notes))  \n",
        "\n",
        "#all the unique notes\n",
        "pitch = sorted(set(item for item in notes))  \n",
        "\n",
        "#assign unique value to every note\n",
        "note_to_int = dict((note, number) for number, note in enumerate(pitch))  \n",
        "\n",
        "#preparing input and output sequences\n",
        "X = []\n",
        "y = []\n",
        "for notes in all_notes:\n",
        "  for i in range(0, len(notes) - no_of_timesteps, 1):\n",
        "    input_ = notes[i:i + no_of_timesteps]\n",
        "    output = notes[i + no_of_timesteps]\n",
        "    X.append([note_to_int[note] for note in input_])\n",
        "    y.append(note_to_int[output])"
      ],
      "execution_count": 0,
      "outputs": []
    },
    {
      "cell_type": "code",
      "metadata": {
        "id": "ezU1HaSrRdyA",
        "colab_type": "code",
        "colab": {}
      },
      "source": [
        "X = np.reshape(X, (len(X), no_of_timesteps, 1))\n",
        "#normalizing the inputs\n",
        "X = X / float(n_vocab)  "
      ],
      "execution_count": 0,
      "outputs": []
    },
    {
      "cell_type": "code",
      "metadata": {
        "id": "gSYaV2HwRiwL",
        "colab_type": "code",
        "colab": {}
      },
      "source": [
        "def lstm():\n",
        "  model = Sequential()\n",
        "  model.add(LSTM(128,return_sequences=True))\n",
        "  model.add(LSTM(128))\n",
        "  model.add(Dense(256))\n",
        "  model.add(Activation('relu'))\n",
        "  model.add(Dense(n_vocab))\n",
        "  model.add(Activation('softmax'))\n",
        "  model.compile(loss='sparse_categorical_crossentropy', optimizer='adam')\n",
        "  return model"
      ],
      "execution_count": 0,
      "outputs": []
    },
    {
      "cell_type": "code",
      "metadata": {
        "id": "0dnSQWdERl6e",
        "colab_type": "code",
        "colab": {
          "base_uri": "https://localhost:8080/",
          "height": 139
        },
        "outputId": "25f237ed-0c04-4c35-aa05-18f1c49936f8"
      },
      "source": [
        "K.clear_session()\n",
        "def simple_wavenet():\n",
        "  no_of_kernels=64\n",
        "  num_of_blocks= int(np.sqrt(no_of_timesteps)) - 1   #no. of stacked conv1d layers\n",
        "\n",
        "  model = Sequential()\n",
        "  for i in range(num_of_blocks):\n",
        "    model.add(Conv1D(no_of_kernels,3,dilation_rate=(2**i),padding='causal',activation='relu'))\n",
        "  model.add(Conv1D(1, 1, activation='relu', padding='causal'))\n",
        "  model.add(Flatten())\n",
        "  model.add(Dense(128, activation='relu'))\n",
        "  model.add(Dense(n_vocab, activation='softmax'))\n",
        "  model.compile(loss='sparse_categorical_crossentropy', optimizer='adam')\n",
        "  return model"
      ],
      "execution_count": 10,
      "outputs": [
        {
          "output_type": "stream",
          "text": [
            "WARNING:tensorflow:From /usr/local/lib/python3.6/dist-packages/keras/backend/tensorflow_backend.py:107: The name tf.reset_default_graph is deprecated. Please use tf.compat.v1.reset_default_graph instead.\n",
            "\n",
            "WARNING:tensorflow:From /usr/local/lib/python3.6/dist-packages/keras/backend/tensorflow_backend.py:111: The name tf.placeholder_with_default is deprecated. Please use tf.compat.v1.placeholder_with_default instead.\n",
            "\n",
            "WARNING:tensorflow:From /usr/local/lib/python3.6/dist-packages/keras/backend/tensorflow_backend.py:66: The name tf.get_default_graph is deprecated. Please use tf.compat.v1.get_default_graph instead.\n",
            "\n"
          ],
          "name": "stdout"
        }
      ]
    },
    {
      "cell_type": "code",
      "metadata": {
        "id": "N3HZ3rV-Rq6W",
        "colab_type": "code",
        "colab": {}
      },
      "source": [
        "import keras\n",
        "mc = keras.callbacks.ModelCheckpoint('model{epoch:03d}.h5', save_weights_only=False, period=50)"
      ],
      "execution_count": 0,
      "outputs": []
    },
    {
      "cell_type": "code",
      "metadata": {
        "id": "b80QZEL-RuXV",
        "colab_type": "code",
        "colab": {
          "base_uri": "https://localhost:8080/",
          "height": 68
        },
        "outputId": "a314cc21-f6be-4140-e5c1-8f5241a7a61e"
      },
      "source": [
        "model = lstm()\n",
        "model.fit(X,np.array(y), epochs=1, batch_size=128)"
      ],
      "execution_count": 55,
      "outputs": [
        {
          "output_type": "stream",
          "text": [
            "Epoch 1/1\n",
            "63757/63757 [==============================] - 372s 6ms/step - loss: 4.9055\n"
          ],
          "name": "stdout"
        },
        {
          "output_type": "execute_result",
          "data": {
            "text/plain": [
              "<keras.callbacks.History at 0x7f61530b68d0>"
            ]
          },
          "metadata": {
            "tags": []
          },
          "execution_count": 55
        }
      ]
    },
    {
      "cell_type": "code",
      "metadata": {
        "id": "b4fiMZKlvHij",
        "colab_type": "code",
        "colab": {}
      },
      "source": [
        "def generate_music(model, pitch, no_of_timesteps, pattern):\n",
        "    \n",
        "    int_to_note = dict((number, note) for number, note in enumerate(pitch))\n",
        "    prediction_output = []\n",
        "    \n",
        "    # generate 50 elements\n",
        "    for note_index in range(50):\n",
        "        #reshaping array to feed into model\n",
        "        input_ = np.reshape(pattern, (1, len(pattern), 1))\n",
        "        #predict the probability and choose the maximum value\n",
        "        proba = model.predict(input_, verbose=0)\n",
        "        index = np.argmax(proba)\n",
        "        #convert integer back to the element\n",
        "        pred = int_to_note[index]\n",
        "        prediction_output.append(pred)\n",
        "        pattern = list(pattern)\n",
        "        pattern.append(index/float(n_vocab))\n",
        "        #leave the first value at index 0\n",
        "        pattern = pattern[1:len(pattern)]\n",
        "\n",
        "    return prediction_output"
      ],
      "execution_count": 0,
      "outputs": []
    },
    {
      "cell_type": "code",
      "metadata": {
        "id": "folTXPU7Rw9c",
        "colab_type": "code",
        "colab": {}
      },
      "source": [
        "def convert_to_midi(prediction_output):\n",
        "    offset = 0\n",
        "    output_notes = []\n",
        "\n",
        "    # create note and chord objects based on the values generated by the model\n",
        "    for pattern in prediction_output:\n",
        "        # pattern is a chord\n",
        "        if ('.' in pattern) or pattern.isdigit():\n",
        "            notes_in_chord = pattern.split('.')\n",
        "            notes = []\n",
        "            for current_note in notes_in_chord:\n",
        "                new_note = note.Note(int(current_note))\n",
        "                new_note.storedInstrument = instrument.Piano()\n",
        "                notes.append(new_note)\n",
        "            new_chord = chord.Chord(notes)\n",
        "            new_chord.offset = offset\n",
        "            output_notes.append(new_chord)\n",
        "        # pattern is a note\n",
        "        else:\n",
        "            new_note = note.Note(pattern)\n",
        "            new_note.offset = offset\n",
        "            new_note.storedInstrument = instrument.Piano()\n",
        "            output_notes.append(new_note)\n",
        "\n",
        "        # Specify duration between 2 notes\n",
        "        offset  += 0.5\n",
        "       # offset += random.uniform(0.5,0.9)\n",
        "\n",
        "    midi_stream = stream.Stream(output_notes)\n",
        "    midi_stream.write('midi', fp='music.mid')"
      ],
      "execution_count": 0,
      "outputs": []
    },
    {
      "cell_type": "code",
      "metadata": {
        "id": "F0Kh53lmtAmz",
        "colab_type": "code",
        "colab": {}
      },
      "source": [
        "#Select random chunk for the first iteration\n",
        "start = np.random.randint(0, len(X)-1)\n",
        "pattern = X[start]\n",
        "#load the best model\n",
        "\n",
        "#generate and save music\n",
        "music = generate_music(model,pitch,no_of_timesteps,pattern)\n",
        "convert_to_midi(music)"
      ],
      "execution_count": 0,
      "outputs": []
    },
    {
      "cell_type": "code",
      "metadata": {
        "id": "-6QFQJkMtigg",
        "colab_type": "code",
        "colab": {}
      },
      "source": [
        ""
      ],
      "execution_count": 0,
      "outputs": []
    }
  ]
}